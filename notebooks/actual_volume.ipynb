{
 "cells": [
  {
   "cell_type": "code",
   "execution_count": 2,
   "metadata": {},
   "outputs": [],
   "source": [
    "import pandas as pd"
   ]
  },
  {
   "cell_type": "code",
   "execution_count": 8,
   "metadata": {},
   "outputs": [],
   "source": [
    "file_path = \"../data/cleaned_aggregated_energy_data.csv\"\n",
    "df = pd.read_csv(file_path)"
   ]
  },
  {
   "cell_type": "code",
   "execution_count": 9,
   "metadata": {},
   "outputs": [],
   "source": [
    "df[\"Datetime\"] = pd.to_datetime(df[\"Datetime\"])"
   ]
  },
  {
   "cell_type": "code",
   "execution_count": 10,
   "metadata": {},
   "outputs": [],
   "source": [
    "# Ensure all relevant columns are numeric before performing calculations\n",
    "numeric_columns = [\n",
    "    \"Generation - Solar [MW] Day Ahead/ BZN|All\",\n",
    "    \"Generation - Solar [MW] Intraday / BZN|All\",\n",
    "    \"Generation - Wind Offshore [MW] Day Ahead/ BZN|All\",\n",
    "    \"Generation - Wind Offshore [MW] Intraday / BZN|All\",\n",
    "    \"Generation - Wind Onshore [MW] Day Ahead/ BZN|All\",\n",
    "    \"Generation - Wind Onshore [MW] Intraday / BZN|All\",\n",
    "    \"Total Imbalance [MWh] - IBA|All\"\n",
    "]\n",
    "\n",
    "for col in numeric_columns:\n",
    "    df[col] = pd.to_numeric(df[col], errors=\"coerce\")  # Convert to float, replace errors with NaN\n",
    "\n",
    "df[\"Actual Volume\"] = (\n",
    "    df[\"Generation - Solar [MW] Day Ahead/ BZN|All\"]\n",
    "    + df[\"Generation - Solar [MW] Intraday / BZN|All\"]\n",
    "    + df[\"Generation - Wind Offshore [MW] Day Ahead/ BZN|All\"]\n",
    "    + df[\"Generation - Wind Offshore [MW] Intraday / BZN|All\"]\n",
    "    + df[\"Generation - Wind Onshore [MW] Day Ahead/ BZN|All\"]\n",
    "    + df[\"Generation - Wind Onshore [MW] Intraday / BZN|All\"]\n",
    "    + df[\"Total Imbalance [MWh] - IBA|All\"]\n",
    ")"
   ]
  },
  {
   "cell_type": "code",
   "execution_count": 11,
   "metadata": {},
   "outputs": [],
   "source": [
    "output_path = \"../data/final_energy_market_data.csv\"\n",
    "df.to_csv(output_path, index=False)"
   ]
  },
  {
   "cell_type": "code",
   "execution_count": null,
   "metadata": {},
   "outputs": [],
   "source": []
  }
 ],
 "metadata": {
  "kernelspec": {
   "display_name": "Python 3",
   "language": "python",
   "name": "python3"
  },
  "language_info": {
   "codemirror_mode": {
    "name": "ipython",
    "version": 3
   },
   "file_extension": ".py",
   "mimetype": "text/x-python",
   "name": "python",
   "nbconvert_exporter": "python",
   "pygments_lexer": "ipython3",
   "version": "3.13.2"
  }
 },
 "nbformat": 4,
 "nbformat_minor": 2
}
