{
 "cells": [
  {
   "cell_type": "code",
   "execution_count": 19,
   "metadata": {},
   "outputs": [],
   "source": [
    "import urllib.request\n",
    "import json\n",
    "import pandas as pd\n",
    "import numpy as np\n",
    "import os\n",
    "from datetime import datetime"
   ]
  },
  {
   "cell_type": "code",
   "execution_count": 2,
   "metadata": {},
   "outputs": [
    {
     "name": "stdout",
     "output_type": "stream",
     "text": [
      "Hours from 2022-11-02 00:00 until now: 21829\n"
     ]
    }
   ],
   "source": [
    "def calculate_hours_from_date(start_date_str):\n",
    "    start_date = datetime.strptime(start_date_str, '%Y-%m-%d %H:%M')\n",
    "    now = datetime.now()\n",
    "    hours = int((now - start_date).total_seconds() / 3600)\n",
    "    return hours\n",
    "\n",
    "start_date = \"2022-11-02 00:00\"\n",
    "hours_limit = calculate_hours_from_date(start_date)\n",
    "print(f\"Hours from {start_date} until now: {hours_limit}\")"
   ]
  },
  {
   "cell_type": "code",
   "execution_count": 17,
   "metadata": {},
   "outputs": [],
   "source": [
    "api_key = \"2bb948aa-5b3a-414f-9ce4-3c3b34875f8d\"\n",
    "\n",
    "parameters = [\"mean_temp\", \"mean_wind_speed\", \"mean_radiation\", \"mean_wind_dir\"]\n",
    "\n",
    "all_weather_data = []"
   ]
  },
  {
   "cell_type": "code",
   "execution_count": 18,
   "metadata": {},
   "outputs": [
    {
     "name": "stdout",
     "output_type": "stream",
     "text": [
      "Checking for duplicates before pivoting:\n",
      "Empty DataFrame\n",
      "Columns: [Datetime, Parameter, Value]\n",
      "Index: []\n"
     ]
    }
   ],
   "source": [
    "for param in parameters:\n",
    "    url = f\"https://dmigw.govcloud.dk/v2/climateData/collections/countryValue/items?api-key={api_key}&parameterId={param}&limit={hours_limit}&timeResolution=hour\"\n",
    "    \n",
    "    # Fetch data from API\n",
    "    with urllib.request.urlopen(url) as fh:\n",
    "        data = json.load(fh)\n",
    "    \n",
    "    # Extract relevant fields\n",
    "    records = []\n",
    "    for feature in data.get(\"features\", []):\n",
    "        properties = feature.get(\"properties\", {})\n",
    "        records.append({\n",
    "            \"Datetime\": properties.get(\"from\"),  # Timestamp\n",
    "            \"Parameter\": param,\n",
    "            \"Value\": properties.get(\"value\")\n",
    "        })\n",
    "    \n",
    "    df = pd.DataFrame(records)\n",
    "    all_weather_data.append(df)\n",
    "\n",
    "final_df = pd.concat(all_weather_data)\n",
    "print(\"Checking for duplicates before pivoting:\")\n",
    "print(final_df[final_df.duplicated(subset=['Datetime', 'Parameter'], keep=False)])\n",
    "final_df = final_df.pivot_table(index=\"Datetime\", columns=\"Parameter\", values=\"Value\", aggfunc='mean').reset_index()\n",
    "\n",
    "final_df.to_csv(\"../data/DMI_data.csv\", index=False)"
   ]
  },
  {
   "cell_type": "code",
   "execution_count": 20,
   "metadata": {},
   "outputs": [],
   "source": [
    "file_path = os.path.join('..', 'data', 'DMI_data.csv') # Adjust path if needed\n",
    "wind_dir_col = 'mean_wind_dir'\n",
    "\n",
    "# Read the CSV\n",
    "df = pd.read_csv(file_path)\n",
    "\n",
    "# Convert to sin/cos if the column exists\n",
    "if wind_dir_col in df.columns:\n",
    "    # Ensure numeric, fill potential NaNs with 0\n",
    "    df[wind_dir_col] = pd.to_numeric(df[wind_dir_col], errors='coerce').fillna(0)\n",
    "\n",
    "    # Convert degrees to radians and calculate sin/cos\n",
    "    wind_dir_rad = np.radians(df[wind_dir_col])\n",
    "    df['wind_dir_sin'] = np.sin(wind_dir_rad)\n",
    "    df['wind_dir_cos'] = np.cos(wind_dir_rad)\n",
    "\n",
    "    # Drop the original column\n",
    "    df = df.drop(columns=[wind_dir_col])\n",
    "\n",
    "    # Save back to CSV, overwriting the original\n",
    "    df.to_csv(file_path, index=False)"
   ]
  }
 ],
 "metadata": {
  "kernelspec": {
   "display_name": "Python 3",
   "language": "python",
   "name": "python3"
  },
  "language_info": {
   "codemirror_mode": {
    "name": "ipython",
    "version": 3
   },
   "file_extension": ".py",
   "mimetype": "text/x-python",
   "name": "python",
   "nbconvert_exporter": "python",
   "pygments_lexer": "ipython3",
   "version": "3.13.2"
  }
 },
 "nbformat": 4,
 "nbformat_minor": 2
}
