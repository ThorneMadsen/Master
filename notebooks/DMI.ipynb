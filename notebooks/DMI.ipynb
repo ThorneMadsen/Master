{
 "cells": [
  {
   "cell_type": "code",
   "execution_count": 33,
   "metadata": {},
   "outputs": [],
   "source": [
    "import urllib.request\n",
    "import json\n",
    "import pandas as pd"
   ]
  },
  {
   "cell_type": "code",
   "execution_count": 49,
   "metadata": {},
   "outputs": [],
   "source": [
    "api_key = \"2bb948aa-5b3a-414f-9ce4-3c3b34875f8d\"\n",
    "\n",
    "parameters = [\"mean_temp\", \"mean_wind_speed\"]\n",
    "\n",
    "all_weather_data = []"
   ]
  },
  {
   "cell_type": "code",
   "execution_count": 50,
   "metadata": {},
   "outputs": [],
   "source": [
    "for param in parameters:\n",
    "    url = f\"https://dmigw.govcloud.dk/v2/climateData/collections/countryValue/items?api-key={api_key}&parameterId={param}&limit=10000&timeResolution=hour\"\n",
    "    \n",
    "    # Fetch data from API\n",
    "    with urllib.request.urlopen(url) as fh:\n",
    "        data = json.load(fh)\n",
    "    \n",
    "    # Extract relevant fields\n",
    "    records = []\n",
    "    for feature in data.get(\"features\", []):\n",
    "        properties = feature.get(\"properties\", {})\n",
    "        records.append({\n",
    "            \"Datetime\": properties.get(\"from\"),  # Timestamp\n",
    "            \"Parameter\": param,\n",
    "            \"Value\": properties.get(\"value\")\n",
    "        })\n",
    "    \n",
    "    df = pd.DataFrame(records)\n",
    "    all_weather_data.append(df)\n",
    "\n",
    "final_df = pd.concat(all_weather_data)\n",
    "final_df = final_df.pivot(index=\"Datetime\", columns=\"Parameter\", values=\"Value\").reset_index()\n",
    "\n",
    "final_df.to_csv(\"../data/DMI_data.csv\", index=False)"
   ]
  }
 ],
 "metadata": {
  "kernelspec": {
   "display_name": "Python 3",
   "language": "python",
   "name": "python3"
  },
  "language_info": {
   "codemirror_mode": {
    "name": "ipython",
    "version": 3
   },
   "file_extension": ".py",
   "mimetype": "text/x-python",
   "name": "python",
   "nbconvert_exporter": "python",
   "pygments_lexer": "ipython3",
   "version": "3.13.2"
  }
 },
 "nbformat": 4,
 "nbformat_minor": 2
}
