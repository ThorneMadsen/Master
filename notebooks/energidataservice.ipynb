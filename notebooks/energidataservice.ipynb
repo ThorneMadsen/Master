{
 "cells": [
  {
   "cell_type": "code",
   "execution_count": 1,
   "metadata": {},
   "outputs": [],
   "source": [
    "import requests\n",
    "import pandas as pd\n",
    "from datetime import datetime\n",
    "import json\n",
    "import os"
   ]
  },
  {
   "cell_type": "code",
   "execution_count": 2,
   "metadata": {},
   "outputs": [],
   "source": [
    "base_url = \"https://api.energidataservice.dk/dataset/\""
   ]
  },
  {
   "cell_type": "code",
   "execution_count": 12,
   "metadata": {},
   "outputs": [
    {
     "name": "stdout",
     "output_type": "stream",
     "text": [
      "Using start date: 2023-01-01\n",
      "Using end date: 2025-04-02\n"
     ]
    }
   ],
   "source": [
    "dataset = 'AfrrReservesNordic'\n",
    "start_date = '2023-01-01'\n",
    "end_date = datetime.now().strftime('%Y-%m-%d')\n",
    "\n",
    "print(f\"Using start date: {start_date}\")\n",
    "print(f\"Using end date: {end_date}\")\n",
    "\n",
    "filters = {'PriceArea': ['DK2']}\n",
    "output_filename = 'afrr_reserves_dk2_2023_today.csv'\n",
    "data_directory = '../data'"
   ]
  },
  {
   "cell_type": "code",
   "execution_count": 6,
   "metadata": {},
   "outputs": [],
   "source": [
    "def fetch_data(dataset_name, start, end, limit=10000, filters=None):\n",
    "    \"\"\"Fetches data from Energinet API with pagination handling.\"\"\"\n",
    "    all_records = []\n",
    "    offset = 0\n",
    "    print(f\"Fetching data for {dataset_name} from {start} to {end}...\")\n",
    "    while True:\n",
    "        processed_filters = {}\n",
    "        if filters:\n",
    "            for key, value in filters.items():\n",
    "                if not isinstance(value, list):\n",
    "                    processed_filters[key] = [value]\n",
    "                else:\n",
    "                    processed_filters[key] = value\n",
    "\n",
    "        params = {\n",
    "            'offset': offset,\n",
    "            'limit': limit,\n",
    "            'start': start,\n",
    "            'end': end,\n",
    "            'filter': json.dumps(processed_filters) if processed_filters else None,\n",
    "            'sort': 'HourUTC ASC'\n",
    "        }\n",
    "        response = None\n",
    "        try:\n",
    "            response = requests.get(base_url + dataset_name, params=params)\n",
    "            response.raise_for_status()\n",
    "            data = response.json()\n",
    "            records = data.get('records', [])\n",
    "            all_records.extend(records)\n",
    "\n",
    "            print(f\"Fetched {len(records)} records (offset {offset}). Total fetched so far: {len(all_records)}\")\n",
    "\n",
    "            # Check if the total number of records has been reached or no more records are returned\n",
    "            total_expected = data.get('total')\n",
    "            if not records or len(records) < limit or (total_expected is not None and len(all_records) >= total_expected):\n",
    "                 print(f\"Finished fetching {dataset_name}. Total records according to API: {data.get('total', 'N/A')}. Fetched records: {len(all_records)}\")\n",
    "                 break\n",
    "\n",
    "            offset += len(records) # Increment offset by the number of records actually fetched\n",
    "\n",
    "        except requests.exceptions.HTTPError as http_err:\n",
    "             print(f\"HTTP error occurred while fetching data for {dataset_name}: {http_err}\")\n",
    "             if response is not None:\n",
    "                 print(f\"URL attempted: {response.url}\")\n",
    "                 print(f\"Response status: {response.status_code}\")\n",
    "                 print(f\"Response text: {response.text[:500]}...\")\n",
    "             break # Stop fetching on HTTP error\n",
    "        except requests.exceptions.RequestException as e:\n",
    "            print(f\"Error fetching data for {dataset_name}: {e}\")\n",
    "            if response is not None:\n",
    "                 print(f\"URL attempted: {response.url}\")\n",
    "            break # Stop fetching on other request errors\n",
    "        except Exception as e:\n",
    "            print(f\"An unexpected error occurred: {e}\")\n",
    "            break # Stop fetching on unexpected errors\n",
    "\n",
    "    # Convert to DataFrame after fetching all records\n",
    "    if not all_records:\n",
    "        print(f\"Warning: No records fetched for {dataset_name}. Returning empty DataFrame.\")\n",
    "        return pd.DataFrame()\n",
    "    else:\n",
    "        return pd.DataFrame(all_records)"
   ]
  },
  {
   "cell_type": "code",
   "execution_count": 13,
   "metadata": {},
   "outputs": [
    {
     "name": "stdout",
     "output_type": "stream",
     "text": [
      "Fetching data for AfrrReservesNordic from 2023-01-01 to 2025-04-02...\n",
      "Fetched 10000 records (offset 0). Total fetched so far: 10000\n",
      "Fetched 9727 records (offset 10000). Total fetched so far: 19727\n",
      "Finished fetching AfrrReservesNordic. Total records according to API: 19727. Fetched records: 19727\n"
     ]
    }
   ],
   "source": [
    "afrr_df = fetch_data(dataset_name=dataset, start=start_date, end=end_date, filters=filters)"
   ]
  },
  {
   "cell_type": "code",
   "execution_count": 14,
   "metadata": {},
   "outputs": [],
   "source": [
    "output_filepath = os.path.join(data_directory, output_filename)\n",
    "afrr_df.to_csv(output_filepath, index=False)"
   ]
  }
 ],
 "metadata": {
  "kernelspec": {
   "display_name": "Python 3",
   "language": "python",
   "name": "python3"
  },
  "language_info": {
   "codemirror_mode": {
    "name": "ipython",
    "version": 3
   },
   "file_extension": ".py",
   "mimetype": "text/x-python",
   "name": "python",
   "nbconvert_exporter": "python",
   "pygments_lexer": "ipython3",
   "version": "3.13.2"
  }
 },
 "nbformat": 4,
 "nbformat_minor": 2
}
