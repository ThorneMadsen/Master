{
 "cells": [
  {
   "cell_type": "code",
   "execution_count": 1,
   "metadata": {},
   "outputs": [],
   "source": [
    "import numpy as np"
   ]
  },
  {
   "cell_type": "code",
   "execution_count": 3,
   "metadata": {},
   "outputs": [],
   "source": [
    "X = np.load(\"../data/X.npy\")"
   ]
  },
  {
   "cell_type": "code",
   "execution_count": 8,
   "metadata": {},
   "outputs": [],
   "source": [
    "def get_day_from_sincos(day_sin, day_cos, is_leap_year=False):\n",
    "  \"\"\"\n",
    "  Calculates the approximate day of the year from its sine and cosine encoding.\n",
    "  Corrected version to handle day 1 properly.\n",
    "\n",
    "  Args:\n",
    "    day_sin: The sine component of the encoded day.\n",
    "    day_cos: The cosine component of the encoded day.\n",
    "    is_leap_year: Boolean indicating if the year should be treated as a leap year (366 days).\n",
    "                  Defaults to False (365 days).\n",
    "\n",
    "  Returns:\n",
    "    An integer representing the approximate day of the year (1-365 or 1-366).\n",
    "  \"\"\"\n",
    "  # Calculate the angle using arctan2(y, x) -> arctan2(sin, cos)\n",
    "  angle = np.arctan2(day_sin, day_cos)\n",
    "\n",
    "  # Convert the angle range from [-pi, pi] to [0, 2*pi]\n",
    "  # Handle potential array input\n",
    "  if isinstance(angle, (np.ndarray)):\n",
    "      angle[angle < 0] += 2 * np.pi\n",
    "  elif angle < 0:\n",
    "      angle += 2 * np.pi\n",
    "\n",
    "  # Determine the number of days in the year\n",
    "  days_in_year = 366.0 if is_leap_year else 365.0\n",
    "\n",
    "  # Reverse the normalization used in the forward calculation:\n",
    "  # angle = (day_of_year / days_in_year) * 2 * pi\n",
    "  # day_of_year = (angle / (2 * pi)) * days_in_year\n",
    "  year_fraction = angle / (2 * np.pi)\n",
    "  approx_day_float = year_fraction * days_in_year\n",
    "\n",
    "  # Use ceiling function to map correctly. Add a small epsilon\n",
    "  # before ceiling for values very close to an integer boundary,\n",
    "  # though ceil should handle 1.0 -> 1, 1.0001 -> 2 etc.\n",
    "  # Let's test ceil directly first.\n",
    "  approx_day_int = np.ceil(approx_day_float).astype(int)\n",
    "\n",
    "  # Handle the edge case where angle is exactly 0 (or numerically close)\n",
    "  # which corresponds to the very start, mapping should be day 1.\n",
    "  # If approx_day_int is 0 after ceiling (e.g., if approx_day_float was ~0), set to 1.\n",
    "  if isinstance(approx_day_int, (np.ndarray)):\n",
    "      approx_day_int[approx_day_int == 0] = 1\n",
    "  elif approx_day_int == 0:\n",
    "      approx_day_int = 1\n",
    "\n",
    "  # Clip to ensure result is within [1, days_in_year]\n",
    "  approx_day_int = np.clip(approx_day_int, 1, int(days_in_year))\n",
    "\n",
    "\n",
    "  return approx_day_int\n"
   ]
  },
  {
   "cell_type": "code",
   "execution_count": 9,
   "metadata": {},
   "outputs": [
    {
     "name": "stdout",
     "output_type": "stream",
     "text": [
      "\n",
      "--- First Day Sequence (Index 0) ---\n",
      "  Day Sin value: 0.017213\n",
      "  Day Cos value: 0.999852\n",
      "  Calculated Day of Year (assuming non-leap): 1\n"
     ]
    },
    {
     "ename": "",
     "evalue": "",
     "output_type": "error",
     "traceback": [
      "\u001b[1;31mThe Kernel crashed while executing code in the current cell or a previous cell. \n",
      "\u001b[1;31mPlease review the code in the cell(s) to identify a possible cause of the failure. \n",
      "\u001b[1;31mClick <a href='https://aka.ms/vscodeJupyterKernelCrash'>here</a> for more info. \n",
      "\u001b[1;31mView Jupyter <a href='command:jupyter.viewOutput'>log</a> for further details."
     ]
    }
   ],
   "source": [
    "first_day_sequence = X[0] # Shape (5, 24)\n",
    "# Get sin/cos values (they are constant, so take from first hour)\n",
    "day_sin_first = first_day_sequence[3, 0]\n",
    "day_cos_first = first_day_sequence[4, 0]\n",
    "\n",
    "# Calculate the day. Assuming the first day corresponds to 2023 (not a leap year).\n",
    "# Our data processing started from 2023-01-01.\n",
    "is_leap_first = False # 2023 is not a leap year\n",
    "calculated_day_first = get_day_from_sincos(day_sin_first, day_cos_first, is_leap_year=is_leap_first)\n",
    "\n",
    "print(f\"\\n--- First Day Sequence (Index 0) ---\")\n",
    "print(f\"  Day Sin value: {day_sin_first:.6f}\")\n",
    "print(f\"  Day Cos value: {day_cos_first:.6f}\")\n",
    "print(f\"  Calculated Day of Year (assuming {'leap' if is_leap_first else 'non-leap'}): {calculated_day_first}\")\n"
   ]
  }
 ],
 "metadata": {
  "kernelspec": {
   "display_name": "Python 3",
   "language": "python",
   "name": "python3"
  },
  "language_info": {
   "codemirror_mode": {
    "name": "ipython",
    "version": 3
   },
   "file_extension": ".py",
   "mimetype": "text/x-python",
   "name": "python",
   "nbconvert_exporter": "python",
   "pygments_lexer": "ipython3",
   "version": "3.13.2"
  }
 },
 "nbformat": 4,
 "nbformat_minor": 2
}
