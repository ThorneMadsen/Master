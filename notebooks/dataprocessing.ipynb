{
 "cells": [
  {
   "cell_type": "code",
   "execution_count": 11,
   "metadata": {},
   "outputs": [],
   "source": [
    "import pandas as pd"
   ]
  },
  {
   "cell_type": "code",
   "execution_count": 31,
   "metadata": {},
   "outputs": [],
   "source": [
    "file_paths = {\n",
    "    \"wind_solar_DK1\": \"../data/Generation Forecasts for Wind and Solar_DK1.csv\",\n",
    "    \"wind_solar_DK2\": \"../data/Generation Forecasts for Wind and Solar_DK2.csv\",\n",
    "    \"imbalance_DK1\": \"../data/Imbalance_year_DK1.csv\",\n",
    "    \"imbalance_DK2\": \"../data/Imbalance_year_DK2.csv\"\n",
    "}\n",
    "\n",
    "wind_solar_DK1 = pd.read_csv(file_paths[\"wind_solar_DK1\"])\n",
    "wind_solar_DK2 = pd.read_csv(file_paths[\"wind_solar_DK2\"])\n",
    "imbalance_DK1 = pd.read_csv(file_paths[\"imbalance_DK1\"])\n",
    "imbalance_DK2 = pd.read_csv(file_paths[\"imbalance_DK2\"])"
   ]
  },
  {
   "cell_type": "code",
   "execution_count": 32,
   "metadata": {},
   "outputs": [],
   "source": [
    "def extract_datetime(df, column_name):\n",
    "    df[\"Datetime\"] = pd.to_datetime(df[column_name].str.split(\" - \").str[0], format=\"%d.%m.%Y %H:%M\")\n",
    "    df.drop(columns=[column_name], inplace=True)\n",
    "    return df\n",
    "\n",
    "\n",
    "wind_solar_DK1 = extract_datetime(wind_solar_DK1, \"MTU (CET/CEST)\")\n",
    "wind_solar_DK2 = extract_datetime(wind_solar_DK2, \"MTU (CET/CEST)\")\n",
    "imbalance_DK1 = extract_datetime(imbalance_DK1, \"Imbalance settlement period CET/CEST\")\n",
    "imbalance_DK2 = extract_datetime(imbalance_DK2, \"Imbalance settlement period CET/CEST\")"
   ]
  },
  {
   "cell_type": "code",
   "execution_count": 33,
   "metadata": {},
   "outputs": [],
   "source": [
    "# Select only relevant columns (ignore \"Current\" columns)\n",
    "columns_to_keep = [col for col in wind_solar_DK1.columns if \"Current\" not in col and col != \"Datetime\"]\n",
    "wind_solar_DK1 = wind_solar_DK1[[\"Datetime\"] + columns_to_keep]\n",
    "wind_solar_DK2 = wind_solar_DK2[[\"Datetime\"] + [col.replace(\"DK1\", \"DK2\") for col in columns_to_keep]]\n",
    "\n",
    "for df in [wind_solar_DK1, wind_solar_DK2, imbalance_DK1, imbalance_DK2]:\n",
    "    for col in df.columns:\n",
    "        if col != \"Datetime\":\n",
    "            df[col] = pd.to_numeric(df[col], errors=\"coerce\")\n",
    "\n",
    "wind_solar_all = wind_solar_DK1.merge(wind_solar_DK2, on=\"Datetime\", suffixes=(\"_DK1\", \"_DK2\"))\n",
    "\n",
    "for col in columns_to_keep:\n",
    "    dk1_col = col\n",
    "    dk2_col = col.replace(\"DK1\", \"DK2\")\n",
    "    wind_solar_all[col.replace(\"DK1\", \"All\")] = wind_solar_all[dk1_col] + wind_solar_all[dk2_col]\n",
    "\n",
    "# Keep only the final cleaned columns\n",
    "wind_solar_all = wind_solar_all[[\"Datetime\"] + [col for col in wind_solar_all.columns if \"All\" in col]]\n"
   ]
  },
  {
   "cell_type": "code",
   "execution_count": 34,
   "metadata": {},
   "outputs": [],
   "source": [
    "imbalance_DK1[\"Total Imbalance [MWh] - IBA|DK1\"] = pd.to_numeric(imbalance_DK1[\"Total Imbalance [MWh] - IBA|DK1\"], errors=\"coerce\")\n",
    "imbalance_DK2[\"Total Imbalance [MWh] - IBA|DK2\"] = pd.to_numeric(imbalance_DK2[\"Total Imbalance [MWh] - IBA|DK2\"], errors=\"coerce\")\n",
    "\n",
    "imbalance_all = imbalance_DK1.merge(imbalance_DK2, on=\"Datetime\")\n",
    "imbalance_all[\"Total Imbalance [MWh] - IBA|All\"] = imbalance_all[\"Total Imbalance [MWh] - IBA|DK1\"] + imbalance_all[\"Total Imbalance [MWh] - IBA|DK2\"]\n",
    "imbalance_all = imbalance_all[[\"Datetime\", \"Total Imbalance [MWh] - IBA|All\"]]"
   ]
  },
  {
   "cell_type": "code",
   "execution_count": 35,
   "metadata": {},
   "outputs": [],
   "source": [
    "final_dataset = wind_solar_all.merge(imbalance_all, on=\"Datetime\")"
   ]
  },
  {
   "cell_type": "code",
   "execution_count": 36,
   "metadata": {},
   "outputs": [],
   "source": [
    "output_path = \"../data/cleaned_aggregated_energy_data.csv\"\n",
    "final_dataset.to_csv(output_path, index=False)"
   ]
  },
  {
   "cell_type": "code",
   "execution_count": null,
   "metadata": {},
   "outputs": [],
   "source": []
  }
 ],
 "metadata": {
  "kernelspec": {
   "display_name": "Python 3",
   "language": "python",
   "name": "python3"
  },
  "language_info": {
   "codemirror_mode": {
    "name": "ipython",
    "version": 3
   },
   "file_extension": ".py",
   "mimetype": "text/x-python",
   "name": "python",
   "nbconvert_exporter": "python",
   "pygments_lexer": "ipython3",
   "version": "3.13.2"
  }
 },
 "nbformat": 4,
 "nbformat_minor": 2
}
